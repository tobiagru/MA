{
 "cells": [
  {
   "cell_type": "code",
   "execution_count": 1,
   "metadata": {},
   "outputs": [
    {
     "data": {
      "text/plain": [
       "\"\\n'id',\\n'authors',\\n'contributors',\\n'datePublished',\\n'description',\\n'fullText',\\n'identifiers',\\n'language',\\n'relations',\\n'repositories',\\n'subjects',\\n'title',\\n'topics',\\n'types',\\n'year',\\n'fulltextIdentifier', 'oai', 'downloadUrl', 'doi', 'publisher', 'journals']\\n\""
      ]
     },
     "execution_count": 1,
     "metadata": {},
     "output_type": "execute_result"
    }
   ],
   "source": [
    "\"\"\"\n",
    "Keys:\n",
    "'id',\n",
    "'authors',\n",
    "'contributors',\n",
    "'datePublished',\n",
    "'description',\n",
    "'fullText',\n",
    "'identifiers',\n",
    "'language',\n",
    "'relations',\n",
    "'repositories',\n",
    "'subjects',\n",
    "'title',\n",
    "'topics',\n",
    "'types',\n",
    "'year',\n",
    "'fulltextIdentifier',\n",
    "'oai',\n",
    "'downloadUrl',\n",
    "'doi',\n",
    "'publisher',\n",
    "'journals']\n",
    "\"\"\""
   ]
  },
  {
   "cell_type": "code",
   "execution_count": null,
   "metadata": {
    "collapsed": true
   },
   "outputs": [],
   "source": [
    "journals = []"
   ]
  }
 ],
 "metadata": {
  "kernelspec": {
   "display_name": "Python 3",
   "language": "python",
   "name": "python3"
  },
  "language_info": {
   "codemirror_mode": {
    "name": "ipython",
    "version": 3
   },
   "file_extension": ".py",
   "mimetype": "text/x-python",
   "name": "python",
   "nbconvert_exporter": "python",
   "pygments_lexer": "ipython3",
   "version": "3.6.3"
  }
 },
 "nbformat": 4,
 "nbformat_minor": 2
}
