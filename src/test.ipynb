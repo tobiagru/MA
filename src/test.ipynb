{
 "cells": [
  {
   "cell_type": "code",
   "execution_count": 1,
   "metadata": {
    "collapsed": true
   },
   "outputs": [],
   "source": [
    "import urllib.request\n",
    "import urllib.parse\n",
    "import json\n",
    "import pprint\n",
    "\n",
    "class CoreApiRequestor:\n",
    "\n",
    "    def __init__(self, endpoint, api_key):\n",
    "        self.endpoint = endpoint\n",
    "        self.api_key = api_key\n",
    "        #defaults\n",
    "        self.pagesize = 100\n",
    "        self.page = 1\n",
    "\n",
    "    def parse_response(self, decoded):\n",
    "        res = []\n",
    "        for item in decoded['data']:\n",
    "            doi = None\n",
    "            if 'identifiers' in item:\n",
    "                for identifier in item['identifiers']:\n",
    "                    if identifier and identifier.startswith('doi:'):\n",
    "                        doi = identifier\n",
    "                        break\n",
    "            res.append([item['title'], doi])\n",
    "        return res\n",
    "\n",
    "    def request_url(self, url):\n",
    "        with urllib.request.urlopen(url) as response:\n",
    "            html = response.read()\n",
    "        return html\n",
    "\n",
    "    def get_method_query_request_url(self,method,query,fullText,page):\n",
    "        if (fullText):\n",
    "            fullText = 'true'\n",
    "        else:\n",
    "            fullText = 'false'\n",
    "        params = {\n",
    "            'apiKey':self.api_key,\n",
    "            'page':page,\n",
    "            'pageSize':self.pagesize,\n",
    "            'fulltext':fullText\n",
    "        }\n",
    "        return self.endpoint + method + '/' + urllib.parse.quote(query) + '?' + urllib.parse.urlencode(params)\n",
    "\n",
    "    def get_up_to_20_pages_of_query(self,method,query,fulltext):\n",
    "        url = self.get_method_query_request_url(method,query,fulltext,1)\n",
    "        all_articles=[]\n",
    "        resp = self.request_url(url)\n",
    "        result = json.loads(resp.decode('utf-8'))\n",
    "        all_articles.append(result)\n",
    "        if (result['totalHits']>100):\n",
    "            numOfPages = int(result['totalHits']/self.pagesize)  #rounds down\n",
    "            if (numOfPages>20):\n",
    "                numOfPages=20\n",
    "            for i in range(2,numOfPages):\n",
    "                url = self.get_method_query_request_url(method,query,False,i)\n",
    "                print(url)\n",
    "                resp =self.request_url(url)\n",
    "                all_articles.append(json.loads(resp.decode('utf-8')))\n",
    "        return all_articles"
   ]
  },
  {
   "cell_type": "code",
   "execution_count": null,
   "metadata": {
    "collapsed": true
   },
   "outputs": [],
   "source": []
  }
 ],
 "metadata": {
  "kernelspec": {
   "display_name": "Python 3",
   "language": "python",
   "name": "python3"
  },
  "language_info": {
   "codemirror_mode": {
    "name": "ipython",
    "version": 3
   },
   "file_extension": ".py",
   "mimetype": "text/x-python",
   "name": "python",
   "nbconvert_exporter": "python",
   "pygments_lexer": "ipython3",
   "version": "3.6.3"
  }
 },
 "nbformat": 4,
 "nbformat_minor": 1
}
